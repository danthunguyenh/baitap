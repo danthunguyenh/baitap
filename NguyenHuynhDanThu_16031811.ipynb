{
  "nbformat": 4,
  "nbformat_minor": 0,
  "metadata": {
    "colab": {
      "name": "NguyenHuynhDanThu_16031811.ipynb",
      "provenance": [],
      "collapsed_sections": [],
      "authorship_tag": "ABX9TyM98lGiKRBrnOIokrDxPNB2",
      "include_colab_link": true
    },
    "kernelspec": {
      "name": "python3",
      "display_name": "Python 3"
    }
  },
  "cells": [
    {
      "cell_type": "markdown",
      "metadata": {
        "id": "view-in-github",
        "colab_type": "text"
      },
      "source": [
        "<a href=\"https://colab.research.google.com/github/danthunguyenh/baitap/blob/main/NguyenHuynhDanThu_16031811.ipynb\" target=\"_parent\"><img src=\"https://colab.research.google.com/assets/colab-badge.svg\" alt=\"Open In Colab\"/></a>"
      ]
    },
    {
      "cell_type": "markdown",
      "metadata": {
        "id": "7vw5Kdzcx7ZE"
      },
      "source": [
        "Lập trình phân tích dữ liệu 2\r\n",
        "\r\n",
        "Nguyễn Huỳnh Đan Thư - 16031811"
      ]
    },
    {
      "cell_type": "code",
      "metadata": {
        "id": "1EMuxuhaxv7r"
      },
      "source": [
        "import numpy as np\r\n",
        "import pandas as pd\r\n",
        "import matplotlib.pyplot as plt\r\n",
        "import seaborn as sns\r\n"
      ],
      "execution_count": 1,
      "outputs": []
    },
    {
      "cell_type": "code",
      "metadata": {
        "id": "qBg3MtTV0TSb"
      },
      "source": [
        "df=pd.ExcelFile('/content/KQThiLyThuyet-26.12.2020_ca2.xls')"
      ],
      "execution_count": 17,
      "outputs": []
    },
    {
      "cell_type": "code",
      "metadata": {
        "id": "yNs3oaFBLezV"
      },
      "source": [
        "result=df.parse('Sheet1')"
      ],
      "execution_count": 18,
      "outputs": []
    },
    {
      "cell_type": "markdown",
      "metadata": {
        "id": "s7O-TkCJLGE5"
      },
      "source": [
        ""
      ]
    },
    {
      "cell_type": "code",
      "metadata": {
        "colab": {
          "base_uri": "https://localhost:8080/"
        },
        "id": "p1e2_Ihc0nfr",
        "outputId": "2b154c59-4ff5-4e6b-b648-efed88b29dc0"
      },
      "source": [
        "result.isnull().sum()"
      ],
      "execution_count": 19,
      "outputs": [
        {
          "output_type": "execute_result",
          "data": {
            "text/plain": [
              "STT          0\n",
              "Mã SV        0\n",
              "Họ đệm       0\n",
              "Tên          0\n",
              "Giới tính    0\n",
              "Ngày sinh    4\n",
              "Điểm         0\n",
              "Điểm.1       0\n",
              "dtype: int64"
            ]
          },
          "metadata": {
            "tags": []
          },
          "execution_count": 19
        }
      ]
    },
    {
      "cell_type": "code",
      "metadata": {
        "colab": {
          "base_uri": "https://localhost:8080/",
          "height": 419
        },
        "id": "crU50YJH00Wj",
        "outputId": "03a4f401-5879-4019-d51c-7592f32d827a"
      },
      "source": [
        "result"
      ],
      "execution_count": 20,
      "outputs": [
        {
          "output_type": "execute_result",
          "data": {
            "text/html": [
              "<div>\n",
              "<style scoped>\n",
              "    .dataframe tbody tr th:only-of-type {\n",
              "        vertical-align: middle;\n",
              "    }\n",
              "\n",
              "    .dataframe tbody tr th {\n",
              "        vertical-align: top;\n",
              "    }\n",
              "\n",
              "    .dataframe thead th {\n",
              "        text-align: right;\n",
              "    }\n",
              "</style>\n",
              "<table border=\"1\" class=\"dataframe\">\n",
              "  <thead>\n",
              "    <tr style=\"text-align: right;\">\n",
              "      <th></th>\n",
              "      <th>STT</th>\n",
              "      <th>Mã SV</th>\n",
              "      <th>Họ đệm</th>\n",
              "      <th>Tên</th>\n",
              "      <th>Giới tính</th>\n",
              "      <th>Ngày sinh</th>\n",
              "      <th>Điểm</th>\n",
              "      <th>Điểm.1</th>\n",
              "    </tr>\n",
              "  </thead>\n",
              "  <tbody>\n",
              "    <tr>\n",
              "      <th>0</th>\n",
              "      <td>1</td>\n",
              "      <td>18066431</td>\n",
              "      <td>Đỗ Huy Quốc</td>\n",
              "      <td>An</td>\n",
              "      <td>Nữ</td>\n",
              "      <td>2000-08-11 00:00:00</td>\n",
              "      <td>5.0</td>\n",
              "      <td>5.0</td>\n",
              "    </tr>\n",
              "    <tr>\n",
              "      <th>1</th>\n",
              "      <td>2</td>\n",
              "      <td>18031341</td>\n",
              "      <td>Hồ Văn Công</td>\n",
              "      <td>Anh</td>\n",
              "      <td>Nữ</td>\n",
              "      <td>27/09/2000</td>\n",
              "      <td>5.5</td>\n",
              "      <td>5.5</td>\n",
              "    </tr>\n",
              "    <tr>\n",
              "      <th>2</th>\n",
              "      <td>4</td>\n",
              "      <td>19462511</td>\n",
              "      <td>Nguyễn Thị Tuyết</td>\n",
              "      <td>Anh</td>\n",
              "      <td>Nữ</td>\n",
              "      <td>2001-01-01 00:00:00</td>\n",
              "      <td>6.3</td>\n",
              "      <td>6.5</td>\n",
              "    </tr>\n",
              "    <tr>\n",
              "      <th>3</th>\n",
              "      <td>5</td>\n",
              "      <td>18002951</td>\n",
              "      <td>Bùi Thái</td>\n",
              "      <td>Bình</td>\n",
              "      <td>Nữ</td>\n",
              "      <td>25/09/2000</td>\n",
              "      <td>5.8</td>\n",
              "      <td>6.0</td>\n",
              "    </tr>\n",
              "    <tr>\n",
              "      <th>4</th>\n",
              "      <td>6</td>\n",
              "      <td>18024551</td>\n",
              "      <td>Bùi Kim</td>\n",
              "      <td>Chi</td>\n",
              "      <td>Nữ</td>\n",
              "      <td>2000-04-06 00:00:00</td>\n",
              "      <td>7.0</td>\n",
              "      <td>7.0</td>\n",
              "    </tr>\n",
              "    <tr>\n",
              "      <th>...</th>\n",
              "      <td>...</td>\n",
              "      <td>...</td>\n",
              "      <td>...</td>\n",
              "      <td>...</td>\n",
              "      <td>...</td>\n",
              "      <td>...</td>\n",
              "      <td>...</td>\n",
              "      <td>...</td>\n",
              "    </tr>\n",
              "    <tr>\n",
              "      <th>59</th>\n",
              "      <td>61</td>\n",
              "      <td>18015761</td>\n",
              "      <td>Đỗ Thị Lan</td>\n",
              "      <td>Vân</td>\n",
              "      <td>Nữ</td>\n",
              "      <td>2000-08-12 00:00:00</td>\n",
              "      <td>5.5</td>\n",
              "      <td>5.5</td>\n",
              "    </tr>\n",
              "    <tr>\n",
              "      <th>60</th>\n",
              "      <td>62</td>\n",
              "      <td>17071471</td>\n",
              "      <td>Trần Thùy</td>\n",
              "      <td>Vân</td>\n",
              "      <td>Nữ</td>\n",
              "      <td>NaN</td>\n",
              "      <td>4.5</td>\n",
              "      <td>4.5</td>\n",
              "    </tr>\n",
              "    <tr>\n",
              "      <th>61</th>\n",
              "      <td>63</td>\n",
              "      <td>18098621</td>\n",
              "      <td>Nguyễn Tường</td>\n",
              "      <td>Vy</td>\n",
              "      <td>Nữ</td>\n",
              "      <td>21/04/2000</td>\n",
              "      <td>4.8</td>\n",
              "      <td>5.0</td>\n",
              "    </tr>\n",
              "    <tr>\n",
              "      <th>62</th>\n",
              "      <td>64</td>\n",
              "      <td>17054331</td>\n",
              "      <td>Từ Thị Thảo</td>\n",
              "      <td>Vy</td>\n",
              "      <td>Nữ</td>\n",
              "      <td>18/12/1999</td>\n",
              "      <td>4.0</td>\n",
              "      <td>4.0</td>\n",
              "    </tr>\n",
              "    <tr>\n",
              "      <th>63</th>\n",
              "      <td>65</td>\n",
              "      <td>18020671</td>\n",
              "      <td>Đoàn Nhị Thiên</td>\n",
              "      <td>Y</td>\n",
              "      <td>Nữ</td>\n",
              "      <td>18/10/2000</td>\n",
              "      <td>6.0</td>\n",
              "      <td>6.0</td>\n",
              "    </tr>\n",
              "  </tbody>\n",
              "</table>\n",
              "<p>64 rows × 8 columns</p>\n",
              "</div>"
            ],
            "text/plain": [
              "    STT     Mã SV            Họ đệm  ...            Ngày sinh Điểm Điểm.1\n",
              "0     1  18066431       Đỗ Huy Quốc  ...  2000-08-11 00:00:00  5.0    5.0\n",
              "1     2  18031341       Hồ Văn Công  ...           27/09/2000  5.5    5.5\n",
              "2     4  19462511  Nguyễn Thị Tuyết  ...  2001-01-01 00:00:00  6.3    6.5\n",
              "3     5  18002951          Bùi Thái  ...           25/09/2000  5.8    6.0\n",
              "4     6  18024551           Bùi Kim  ...  2000-04-06 00:00:00  7.0    7.0\n",
              "..  ...       ...               ...  ...                  ...  ...    ...\n",
              "59   61  18015761        Đỗ Thị Lan  ...  2000-08-12 00:00:00  5.5    5.5\n",
              "60   62  17071471         Trần Thùy  ...                  NaN  4.5    4.5\n",
              "61   63  18098621      Nguyễn Tường  ...           21/04/2000  4.8    5.0\n",
              "62   64  17054331       Từ Thị Thảo  ...           18/12/1999  4.0    4.0\n",
              "63   65  18020671    Đoàn Nhị Thiên  ...           18/10/2000  6.0    6.0\n",
              "\n",
              "[64 rows x 8 columns]"
            ]
          },
          "metadata": {
            "tags": []
          },
          "execution_count": 20
        }
      ]
    },
    {
      "cell_type": "code",
      "metadata": {
        "colab": {
          "base_uri": "https://localhost:8080/"
        },
        "id": "TtjWnI1v4OOy",
        "outputId": "b74eafb6-105b-4823-9e61-c38a40365e0c"
      },
      "source": [
        "result['Ngày sinh'].value_counts().idxmax()"
      ],
      "execution_count": 21,
      "outputs": [
        {
          "output_type": "execute_result",
          "data": {
            "text/plain": [
              "datetime.datetime(1999, 10, 10, 0, 0)"
            ]
          },
          "metadata": {
            "tags": []
          },
          "execution_count": 21
        }
      ]
    },
    {
      "cell_type": "code",
      "metadata": {
        "id": "y2Q6Mesw6M3i"
      },
      "source": [
        "result['Ngày sinh'].fillna(result['Ngày sinh'].value_counts().idxmax(),inplace=True)"
      ],
      "execution_count": 22,
      "outputs": []
    },
    {
      "cell_type": "code",
      "metadata": {
        "colab": {
          "base_uri": "https://localhost:8080/"
        },
        "id": "S6orBenB6bKS",
        "outputId": "76edfe5c-9925-41c1-fa17-ab4002011aca"
      },
      "source": [
        "result.isnull().sum()"
      ],
      "execution_count": 23,
      "outputs": [
        {
          "output_type": "execute_result",
          "data": {
            "text/plain": [
              "STT          0\n",
              "Mã SV        0\n",
              "Họ đệm       0\n",
              "Tên          0\n",
              "Giới tính    0\n",
              "Ngày sinh    0\n",
              "Điểm         0\n",
              "Điểm.1       0\n",
              "dtype: int64"
            ]
          },
          "metadata": {
            "tags": []
          },
          "execution_count": 23
        }
      ]
    },
    {
      "cell_type": "code",
      "metadata": {
        "colab": {
          "base_uri": "https://localhost:8080/",
          "height": 297
        },
        "id": "WH4L6FKx6fkl",
        "outputId": "5a8f9a6f-b337-4fc0-d99d-290d80458f7d"
      },
      "source": [
        "result.describe()"
      ],
      "execution_count": 24,
      "outputs": [
        {
          "output_type": "execute_result",
          "data": {
            "text/html": [
              "<div>\n",
              "<style scoped>\n",
              "    .dataframe tbody tr th:only-of-type {\n",
              "        vertical-align: middle;\n",
              "    }\n",
              "\n",
              "    .dataframe tbody tr th {\n",
              "        vertical-align: top;\n",
              "    }\n",
              "\n",
              "    .dataframe thead th {\n",
              "        text-align: right;\n",
              "    }\n",
              "</style>\n",
              "<table border=\"1\" class=\"dataframe\">\n",
              "  <thead>\n",
              "    <tr style=\"text-align: right;\">\n",
              "      <th></th>\n",
              "      <th>STT</th>\n",
              "      <th>Mã SV</th>\n",
              "      <th>Điểm</th>\n",
              "      <th>Điểm.1</th>\n",
              "    </tr>\n",
              "  </thead>\n",
              "  <tbody>\n",
              "    <tr>\n",
              "      <th>count</th>\n",
              "      <td>64.000000</td>\n",
              "      <td>6.400000e+01</td>\n",
              "      <td>64.000000</td>\n",
              "      <td>64.000000</td>\n",
              "    </tr>\n",
              "    <tr>\n",
              "      <th>mean</th>\n",
              "      <td>33.468750</td>\n",
              "      <td>1.881333e+07</td>\n",
              "      <td>5.315625</td>\n",
              "      <td>5.421875</td>\n",
              "    </tr>\n",
              "    <tr>\n",
              "      <th>std</th>\n",
              "      <td>18.672592</td>\n",
              "      <td>1.030669e+07</td>\n",
              "      <td>1.205703</td>\n",
              "      <td>1.225453</td>\n",
              "    </tr>\n",
              "    <tr>\n",
              "      <th>min</th>\n",
              "      <td>1.000000</td>\n",
              "      <td>1.404069e+07</td>\n",
              "      <td>0.000000</td>\n",
              "      <td>0.000000</td>\n",
              "    </tr>\n",
              "    <tr>\n",
              "      <th>25%</th>\n",
              "      <td>17.750000</td>\n",
              "      <td>1.707397e+07</td>\n",
              "      <td>4.725000</td>\n",
              "      <td>4.875000</td>\n",
              "    </tr>\n",
              "    <tr>\n",
              "      <th>50%</th>\n",
              "      <td>33.500000</td>\n",
              "      <td>1.801700e+07</td>\n",
              "      <td>5.400000</td>\n",
              "      <td>5.500000</td>\n",
              "    </tr>\n",
              "    <tr>\n",
              "      <th>75%</th>\n",
              "      <td>49.250000</td>\n",
              "      <td>1.805240e+07</td>\n",
              "      <td>6.300000</td>\n",
              "      <td>6.500000</td>\n",
              "    </tr>\n",
              "    <tr>\n",
              "      <th>max</th>\n",
              "      <td>65.000000</td>\n",
              "      <td>9.966611e+07</td>\n",
              "      <td>7.000000</td>\n",
              "      <td>7.000000</td>\n",
              "    </tr>\n",
              "  </tbody>\n",
              "</table>\n",
              "</div>"
            ],
            "text/plain": [
              "             STT         Mã SV       Điểm     Điểm.1\n",
              "count  64.000000  6.400000e+01  64.000000  64.000000\n",
              "mean   33.468750  1.881333e+07   5.315625   5.421875\n",
              "std    18.672592  1.030669e+07   1.205703   1.225453\n",
              "min     1.000000  1.404069e+07   0.000000   0.000000\n",
              "25%    17.750000  1.707397e+07   4.725000   4.875000\n",
              "50%    33.500000  1.801700e+07   5.400000   5.500000\n",
              "75%    49.250000  1.805240e+07   6.300000   6.500000\n",
              "max    65.000000  9.966611e+07   7.000000   7.000000"
            ]
          },
          "metadata": {
            "tags": []
          },
          "execution_count": 24
        }
      ]
    },
    {
      "cell_type": "code",
      "metadata": {
        "colab": {
          "base_uri": "https://localhost:8080/"
        },
        "id": "KYKs_c6cOID-",
        "outputId": "ed1ec2a7-0c10-4a0a-da1c-1139a8215415"
      },
      "source": [
        "result['Điểm'].describe()"
      ],
      "execution_count": 25,
      "outputs": [
        {
          "output_type": "execute_result",
          "data": {
            "text/plain": [
              "count    64.000000\n",
              "mean      5.315625\n",
              "std       1.205703\n",
              "min       0.000000\n",
              "25%       4.725000\n",
              "50%       5.400000\n",
              "75%       6.300000\n",
              "max       7.000000\n",
              "Name: Điểm, dtype: float64"
            ]
          },
          "metadata": {
            "tags": []
          },
          "execution_count": 25
        }
      ]
    },
    {
      "cell_type": "code",
      "metadata": {
        "colab": {
          "base_uri": "https://localhost:8080/",
          "height": 296
        },
        "id": "4v6PJKVj7_FT",
        "outputId": "d4471bbc-91d5-4518-9ec5-af57a6bfda11"
      },
      "source": [
        "sns.countplot(x='Điểm', data=result)"
      ],
      "execution_count": null,
      "outputs": [
        {
          "output_type": "execute_result",
          "data": {
            "text/plain": [
              "<matplotlib.axes._subplots.AxesSubplot at 0x7f551a6cd550>"
            ]
          },
          "metadata": {
            "tags": []
          },
          "execution_count": 36
        },
        {
          "output_type": "display_data",
          "data": {
            "image/png": "[encoded data removed]",
            "text/plain": [
              "<Figure size 432x288 with 1 Axes>"
            ]
          },
          "metadata": {
            "tags": [],
            "needs_background": "light"
          }
        }
      ]
    },
    {
      "cell_type": "markdown",
      "metadata": {
        "id": "v_UiWoLBQNYf"
      },
      "source": [
        "Từ biểu đồ ta thấy điểm thấp nhất là 0, cao nhất là 7. "
      ]
    },
    {
      "cell_type": "code",
      "metadata": {
        "colab": {
          "base_uri": "https://localhost:8080/",
          "height": 296
        },
        "id": "Ys-m2OR3P4hz",
        "outputId": "b3faf9b3-23dd-4bf6-c3bb-3f0b6a6ca173"
      },
      "source": [
        "sns.countplot(x='Giới tính', data=result)"
      ],
      "execution_count": 29,
      "outputs": [
        {
          "output_type": "execute_result",
          "data": {
            "text/plain": [
              "<matplotlib.axes._subplots.AxesSubplot at 0x7f58230f8ba8>"
            ]
          },
          "metadata": {
            "tags": []
          },
          "execution_count": 29
        },
        {
          "output_type": "display_data",
          "data": {
            "image/png": "[encoded data removed]",
            "text/plain": [
              "<Figure size 432x288 with 1 Axes>"
            ]
          },
          "metadata": {
            "tags": [],
            "needs_background": "light"
          }
        }
      ]
    },
    {
      "cell_type": "markdown",
      "metadata": {
        "id": "bzhaXDJVQDgB"
      },
      "source": [
        "từ biểu đồ ta thấy số lượng nam nữ không đều nhau. Nữ nhiều hơn nam"
      ]
    },
    {
      "cell_type": "code",
      "metadata": {
        "colab": {
          "base_uri": "https://localhost:8080/",
          "height": 379
        },
        "id": "2WkhD0tPAZZy",
        "outputId": "fe3fc78f-4096-4403-8dd6-58f613c0fffc"
      },
      "source": [
        "sns.displot(result['Điểm'], kde=True).set(xlabel='Điểm', ylabel='Count')"
      ],
      "execution_count": null,
      "outputs": [
        {
          "output_type": "execute_result",
          "data": {
            "text/plain": [
              "<seaborn.axisgrid.FacetGrid at 0x7f550ef09588>"
            ]
          },
          "metadata": {
            "tags": []
          },
          "execution_count": 52
        },
        {
          "output_type": "display_data",
          "data": {
            "image/png": "[encoded data removed]",
            "text/plain": [
              "<Figure size 360x360 with 1 Axes>"
            ]
          },
          "metadata": {
            "tags": []
          }
        }
      ]
    },
    {
      "cell_type": "code",
      "metadata": {
        "colab": {
          "base_uri": "https://localhost:8080/",
          "height": 282
        },
        "id": "XD3V9l8NOUEh",
        "outputId": "aa1c487a-d8a8-4e13-a264-0616debcaf6b"
      },
      "source": [
        "result['Điểm'].hist()"
      ],
      "execution_count": 26,
      "outputs": [
        {
          "output_type": "execute_result",
          "data": {
            "text/plain": [
              "<matplotlib.axes._subplots.AxesSubplot at 0x7f58236e72e8>"
            ]
          },
          "metadata": {
            "tags": []
          },
          "execution_count": 26
        },
        {
          "output_type": "display_data",
          "data": {
            "image/png": "[encoded data removed]",
            "text/plain": [
              "<Figure size 432x288 with 1 Axes>"
            ]
          },
          "metadata": {
            "tags": [],
            "needs_background": "light"
          }
        }
      ]
    },
    {
      "cell_type": "markdown",
      "metadata": {
        "id": "DeJyuUU7-ATJ"
      },
      "source": [
        "Từ biểu đồ ta thấy điểm tập trung nhiều nhất vào khoảng 3 đến 7 điểm.\r\n",
        "\r\n",
        "Không có điểm trên 8\r\n",
        "\r\n",
        "Điểm sinh viên hầu hết ở mức trung bình khá."
      ]
    },
    {
      "cell_type": "code",
      "metadata": {
        "id": "rnXrxcERJ4kY",
        "colab": {
          "base_uri": "https://localhost:8080/",
          "height": 350
        },
        "outputId": "650a1386-d175-4e34-a60c-bd685edce8ac"
      },
      "source": [
        "sns.boxplot(result['Điểm'])"
      ],
      "execution_count": 27,
      "outputs": [
        {
          "output_type": "stream",
          "text": [
            "/usr/local/lib/python3.6/dist-packages/seaborn/_decorators.py:43: FutureWarning: Pass the following variable as a keyword arg: x. From version 0.12, the only valid positional argument will be `data`, and passing other arguments without an explicit keyword will result in an error or misinterpretation.\n",
            "  FutureWarning\n"
          ],
          "name": "stderr"
        },
        {
          "output_type": "execute_result",
          "data": {
            "text/plain": [
              "<matplotlib.axes._subplots.AxesSubplot at 0x7f582364cf28>"
            ]
          },
          "metadata": {
            "tags": []
          },
          "execution_count": 27
        },
        {
          "output_type": "display_data",
          "data": {
            "image/png": "[encoded data removed]",
            "text/plain": [
              "<Figure size 432x288 with 1 Axes>"
            ]
          },
          "metadata": {
            "tags": [],
            "needs_background": "light"
          }
        }
      ]
    },
    {
      "cell_type": "code",
      "metadata": {
        "colab": {
          "base_uri": "https://localhost:8080/",
          "height": 296
        },
        "id": "5C1AXuPoF4lZ",
        "outputId": "7531f278-35ba-438e-d4c2-18d8387c40c1"
      },
      "source": [
        "sns.boxplot(x=result['Giới tính'], y=result['Điểm'])"
      ],
      "execution_count": 28,
      "outputs": [
        {
          "output_type": "execute_result",
          "data": {
            "text/plain": [
              "<matplotlib.axes._subplots.AxesSubplot at 0x7f5823172898>"
            ]
          },
          "metadata": {
            "tags": []
          },
          "execution_count": 28
        },
        {
          "output_type": "display_data",
          "data": {
            "image/png": "[encoded data removed]",
            "text/plain": [
              "<Figure size 432x288 with 1 Axes>"
            ]
          },
          "metadata": {
            "tags": [],
            "needs_background": "light"
          }
        }
      ]
    },
    {
      "cell_type": "markdown",
      "metadata": {
        "id": "pC-Add3qGfuo"
      },
      "source": [
        "\r\n",
        "Từ biểu đồ ta thấy có giá trị outlier tại điểm 0 của giới tính nữ.\r\n",
        "Từ biểu đồ ta thấy lớp chỉ có 1 nam\r\n",
        "điểm cao nhất(max) là 7. Điểm tập trung hầu hết trong khoảng 4,5 đến 6,5\r\n"
      ]
    }
  ]
}